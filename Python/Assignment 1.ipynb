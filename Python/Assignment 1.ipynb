{
 "cells": [
  {
   "cell_type": "markdown",
   "metadata": {},
   "source": [
    "Escriba un programa que lea un entero (input), lo multiplique por 3 y lo imprima. "
   ]
  },
  {
   "cell_type": "code",
   "execution_count": 2,
   "metadata": {},
   "outputs": [
    {
     "name": "stdout",
     "output_type": "stream",
     "text": [
      "Escriba un entero 2\n",
      "6\n"
     ]
    }
   ],
   "source": [
    "numero = input(\"Escriba un entero \")\n",
    "res = int(numero)*3\n",
    "print(res)"
   ]
  },
  {
   "cell_type": "markdown",
   "metadata": {},
   "source": [
    "Escribir un programa que pida al cliente la longitud y ancho de la habitación e\n",
    "imprima la superficie de la habitación, los valores podrán tener decimales.\n",
    "Formato de salida deseado: xx.yy m^2"
   ]
  },
  {
   "cell_type": "code",
   "execution_count": 14,
   "metadata": {},
   "outputs": [
    {
     "name": "stdout",
     "output_type": "stream",
     "text": [
      "Escriba la longitud 2\n",
      "Escriba el ancho 1\n",
      "2.00 m^2\n"
     ]
    }
   ],
   "source": [
    "longitud = input(\"Escriba la longitud \")\n",
    "ancho = input(\"Escriba el ancho \")\n",
    "superficie = float(longitud)*float(ancho)\n",
    "print(\"{0:.2f} m^2\".format(superficie))"
   ]
  },
  {
   "cell_type": "markdown",
   "metadata": {},
   "source": [
    "Determinar el área y volumen de un cilindro cuyas dimensiones (radio - altura) se lean\n",
    "desde el teclado.\n",
    "Formato de salida deseado: xx.yy m^3"
   ]
  },
  {
   "cell_type": "code",
   "execution_count": 21,
   "metadata": {},
   "outputs": [
    {
     "name": "stdout",
     "output_type": "stream",
     "text": [
      "Escriba la altura 3\n",
      "Escriba el radio 3\n",
      "Area: 113.10 m^3\n",
      "Volumen: 84.82 m^3\n"
     ]
    }
   ],
   "source": [
    "import math\n",
    "altura = input(\"Escriba la altura \")\n",
    "radio = input(\"Escriba el radio \")\n",
    "area = 2*math.pi*float(radio)*float(altura) + 2*math.pi*float(radio)**2\n",
    "volumen = math.pi*float(radio)**2 * float(altura)\n",
    "print(\"Area: {0:.2f} m^3\".format(area))\n",
    "print(\"Volumen: {0:.2f} m^3\".format(volumen))"
   ]
  },
  {
   "cell_type": "markdown",
   "metadata": {},
   "source": [
    "La fuerza de atracción entre dos masas m1 y m2 separadas por una distancia d, está\n",
    "dada por la fórmula:\n",
    "\n",
    "F = G x m1 x m2 / d^2\n",
    "\n",
    "Donde G es la constante de gravitación universal: G = 6.673X10^-8\n",
    "\n",
    "Escriba un programa que lea la masa de dos cuerpos y la distancia entre ellos y a\n",
    "continuación obtenga la fuerza gravitacional entre ella. La salida debe ser en dinas; un\n",
    "DINA es igual a g x cm / seg^2"
   ]
  },
  {
   "cell_type": "code",
   "execution_count": 8,
   "metadata": {},
   "outputs": [
    {
     "name": "stdout",
     "output_type": "stream",
     "text": [
      "Escriba el valor de m1 (g) 5500\n",
      "Escriba el valor de m2 (g) 5500\n",
      "Escriba el valor de d (m) 3.2\n",
      "1.97127197265625e-05\n",
      "La fuerza es: 0.00 dyn\n"
     ]
    }
   ],
   "source": [
    "m1 = float(input(\"Escriba el valor de m1 (g) \"))\n",
    "m2 = float(input(\"Escriba el valor de m2 (g) \"))\n",
    "d = float(input(\"Escriba el valor de d (m) \"))\n",
    "dc = d*100\n",
    "g = 6.673*(10**-8)\n",
    "fuerza = (g*m1*m2)/(dc**2)\n",
    "print(fuerza)\n",
    "print(\"La fuerza es: {0:.2f} dyn\".format(fuerza))"
   ]
  },
  {
   "cell_type": "markdown",
   "metadata": {},
   "source": [
    "La famosa ecuación de Einstein para conversión de una masa m en energía viene dada\n",
    "por la fórmula\n",
    "\n",
    "E = m * c^2\n",
    "\n",
    "C es la velocidad de la luz: 2.997925 * 10^10 m/seg\n",
    "\n",
    "Escribir un programa que lea una masa en gramos y obtenga la cantidad de energía\n",
    "producida cuando la masa se convierta en energía.\n",
    "Nota: se la masa se da en gramos, la fórmula produce la energía en ergios.\n",
    "Formato de salida deseado: xx.yy erg"
   ]
  },
  {
   "cell_type": "code",
   "execution_count": 18,
   "metadata": {},
   "outputs": [
    {
     "name": "stdout",
     "output_type": "stream",
     "text": [
      "Escriba el valor de m (g) 1\n",
      "8987554305624999718813696.00 erg\n"
     ]
    }
   ],
   "source": [
    "m1 = float(input(\"Escriba el valor de m (g) \"))\n",
    "c= 2.997925*(10**10)\n",
    "ccm= c*100\n",
    "e = m1*(ccm**2)\n",
    "print(\"{0:.2f} erg\".format(e))"
   ]
  },
  {
   "cell_type": "markdown",
   "metadata": {},
   "source": [
    "Escribir un programa que lea la hora en un día de notación 24 horas y escriba la\n",
    "respuesta en notación de 12 horas. Por ejemplo, si la entrada es 13:45, la salida será:\n",
    "\n",
    "1:45 PM\n",
    "\n",
    "El programa pedirá al usuario que introduzca exactamente cinco caracteres. Así, por\n",
    "ejemplo, las nueve en punto se introduce como: 09:00"
   ]
  },
  {
   "cell_type": "code",
   "execution_count": 20,
   "metadata": {},
   "outputs": [
    {
     "name": "stdout",
     "output_type": "stream",
     "text": [
      "Introduzca una hora en formato HH:MM: 22:34\n"
     ]
    },
    {
     "data": {
      "text/plain": [
       "'10:34 PM'"
      ]
     },
     "execution_count": 20,
     "metadata": {},
     "output_type": "execute_result"
    }
   ],
   "source": [
    "from datetime import datetime\n",
    "date = input(\"Introduzca una hora en formato HH:MM: \")\n",
    "d = datetime.strptime(date, \"%H:%M\")\n",
    "d.strftime(\"%I:%M %p\")"
   ]
  },
  {
   "cell_type": "markdown",
   "metadata": {},
   "source": [
    "Leer un número A, evaluar sucesivamente las expresiones siguientes y desplegar los\n",
    "resultados obtenidos en un archivo denominado “practica01.out”.\n",
    "\n",
    "B = A + 10\n",
    "\n",
    "C = 2 * B + A\n",
    "\n",
    "D = A + B + C + 5\n",
    "\n",
    "Formato de salida deseado:\n",
    "Ejercicio 9.\n",
    "A = xx\n",
    "B = yy\n",
    "C = zz\n",
    "D = xyz"
   ]
  },
  {
   "cell_type": "code",
   "execution_count": 74,
   "metadata": {},
   "outputs": [
    {
     "name": "stdout",
     "output_type": "stream",
     "text": [
      "Introduza un numero: 2\n"
     ]
    }
   ],
   "source": [
    "A = int(input(\"Introduza un numero: \"))\n",
    "B = A + 10\n",
    "C = 2*B+A\n",
    "D = A+B+C+5\n",
    "with open('practica01.out','w') as out:\n",
    "    out.write(' A = {}\\n B = {}\\n C = {}\\n D = {}\\n'.format(str(A),str(B),str(C),str(D)))"
   ]
  },
  {
   "cell_type": "raw",
   "metadata": {},
   "source": [
    "Hacer leer un número X de tipo decimal, hallar su valor absoluto y decimal, desplegar el resultado dentro del archivo “practica01.out”.\n",
    "\n",
    "Formato de salida deseado:\n",
    "\n",
    "Ejercicio 8.\n",
    "\n",
    "Número: xx.yy\n",
    "\n",
    "Valor absoluto: xx\n",
    "\n",
    "Parte decimal: yy"
   ]
  },
  {
   "cell_type": "code",
   "execution_count": 75,
   "metadata": {},
   "outputs": [
    {
     "name": "stdout",
     "output_type": "stream",
     "text": [
      "Introduza un decimal: 12.34\n"
     ]
    }
   ],
   "source": [
    "X = float(input(\"Introduza un decimal: \"))\n",
    "vabs = int(X)\n",
    "decimal = abs(X) - int(X)\n",
    "formato = f'{decimal:.2f}'\n",
    "with open('practica01.out','a') as out:\n",
    "    out.write('\\n Numero: {}\\n Valor absoluto: {}\\n Parte decimal: {}\\n'.format(X,vabs,formato[2:]))\n"
   ]
  },
  {
   "cell_type": "markdown",
   "metadata": {},
   "source": [
    "Leer a, b, c y d, hallar el menor y mayor de los cuatro números, desplegar su resultado\n",
    "en el archivo “practica01.out”."
   ]
  },
  {
   "cell_type": "code",
   "execution_count": 77,
   "metadata": {},
   "outputs": [],
   "source": [
    "lst = [A,B,C,D]\n",
    "mx = max(lst)\n",
    "mn = min(lst)\n",
    "with open('practica01.out','a') as out:\n",
    "    out.write('\\n Mayor: {}\\n Menor: {}\\n'.format(mx,mn))\n"
   ]
  },
  {
   "cell_type": "code",
   "execution_count": null,
   "metadata": {},
   "outputs": [],
   "source": [
    "Dado los valores de X, Y, Z, evaluar A = X^2+Y^2+Z^2. Si se cumple que, A<100 y Y<5\n",
    "calcular B = (X+Y)^2 – X*Z, caso contrario calcular B = (X-Y)^2 + X*Z. Desplegar A y B\n",
    "en el archivo “practica01.out”"
   ]
  },
  {
   "cell_type": "code",
   "execution_count": 85,
   "metadata": {},
   "outputs": [
    {
     "name": "stdout",
     "output_type": "stream",
     "text": [
      "Introduza un numero: 2\n",
      "Introduza un numero: 2\n",
      "Introduza un numero: 2\n"
     ]
    }
   ],
   "source": [
    "x = int(input(\"Introduza un numero: \"))\n",
    "y = int(input(\"Introduza un numero: \"))\n",
    "z = int(input(\"Introduza un numero: \"))\n",
    "\n",
    "a = (x**2)+(y**2)+(z**2) \n",
    "if a<100 and y<5:\n",
    "    b = (x+y)**2 - x*z\n",
    "else:\n",
    "    b = (x-y)**2 + x*z\n",
    "    \n",
    "with open('practica01.out','a') as out:\n",
    "    out.write('\\n Resultado: {}\\n'.format(b))"
   ]
  },
  {
   "cell_type": "code",
   "execution_count": null,
   "metadata": {},
   "outputs": [],
   "source": []
  }
 ],
 "metadata": {
  "kernelspec": {
   "display_name": "Python 3",
   "language": "python",
   "name": "python3"
  },
  "language_info": {
   "codemirror_mode": {
    "name": "ipython",
    "version": 3
   },
   "file_extension": ".py",
   "mimetype": "text/x-python",
   "name": "python",
   "nbconvert_exporter": "python",
   "pygments_lexer": "ipython3",
   "version": "3.7.3"
  }
 },
 "nbformat": 4,
 "nbformat_minor": 2
}
