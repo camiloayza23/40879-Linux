{
 "cells": [
  {
   "cell_type": "markdown",
   "metadata": {},
   "source": [
    "# 02-30"
   ]
  },
  {
   "cell_type": "code",
   "execution_count": 24,
   "metadata": {},
   "outputs": [
    {
     "name": "stdout",
     "output_type": "stream",
     "text": [
      "SUCESION DE FIBONACCI\n",
      "Escriba el primer valor de sucesion: 3\n",
      "Escriba el segundo valor de la sucesion: 6\n",
      "Escriba el numero de valores a mostrar: 6\n",
      "3 6 9 15 24 39\n"
     ]
    }
   ],
   "source": [
    "print(\"SUCESIÓN DE FIBONACCI\")\n",
    "n1 = int(input(\"Escriba el primer valor de sucesion: \"))\n",
    "n2 = int(input(\"Escriba el segundo valor de la sucesion: \"))\n",
    "num = int(input(\"Escriba el numero de valores a mostrar: \"))\n",
    "if num > 1:\n",
    "    lst = []\n",
    "    count = 0\n",
    "    while count < num:\n",
    "        lst.append(n1)\n",
    "        nth = n1 + n2\n",
    "        n1 = n2\n",
    "        n2 = nth\n",
    "        count += 1\n",
    "    print(*lst)\n",
    "else:\n",
    "    print(\"¡Se deben mostrar al menos dos valores!\")"
   ]
  },
  {
   "cell_type": "markdown",
   "metadata": {},
   "source": [
    "# 04-30"
   ]
  },
  {
   "cell_type": "code",
   "execution_count": 23,
   "metadata": {},
   "outputs": [
    {
     "name": "stdout",
     "output_type": "stream",
     "text": [
      "5\n",
      "20 2\n",
      "10 1\n",
      "20 5\n",
      "7 5\n",
      "20 40\n",
      "6\n",
      "0\n",
      "7\n",
      "8\n",
      "42\n"
     ]
    }
   ],
   "source": [
    "l = int(input())\n",
    "nlst = []\n",
    "klst = []\n",
    "div = []\n",
    "s = 0\n",
    "for x in range(l):\n",
    "    n,k = input(\"\").split() \n",
    "    nlst.append(int(n))\n",
    "    klst.append(int(k))\n",
    "for i in range(len(nlst)):\n",
    "    for k in range(1,nlst[i]+1):\n",
    "        if nlst[i]%k==0:\n",
    "            div.append(k)\n",
    "    for j in range(len(div)):\n",
    "        if div[j]%klst[i]!=0:\n",
    "            s+=div[j]\n",
    "    print(s)\n",
    "    div = []\n",
    "    s = 0\n",
    "    "
   ]
  },
  {
   "cell_type": "markdown",
   "metadata": {},
   "source": [
    "# 05-40"
   ]
  },
  {
   "cell_type": "code",
   "execution_count": 42,
   "metadata": {},
   "outputs": [
    {
     "name": "stdout",
     "output_type": "stream",
     "text": [
      "3\n",
      "1 1 1 2 3 6\n",
      "1 2 4 5 6 6\n",
      "1 1 3 4 4 6\n",
      "3 balas 3 puntos ( 1 1 1 2 3 6 )\n",
      "2 senas 12 puntos ( 1 2 4 5 6 6 )\n"
     ]
    }
   ],
   "source": [
    "import random\n",
    "rd = []\n",
    "acon = []\n",
    "cant1 = 0\n",
    "cant2 = 0\n",
    "cant3 = 0\n",
    "cant4 = 0\n",
    "cant5 = 0\n",
    "cant6 = 0\n",
    "l = int(input())\n",
    "for x in range(l):\n",
    "    for j in range(0,6):\n",
    "        rd.append(random.randint(1,6))\n",
    "    rd.sort()\n",
    "    acon.append(rd)\n",
    "    rd = []\n",
    "for i in range(len(acon)):\n",
    "    print(*acon[i])\n",
    "for i in range(len(acon)):\n",
    "    cant1 = acon[i].count(1)\n",
    "    cant2 = acon[i].count(2)\n",
    "    cant3 = acon[i].count(3)\n",
    "    cant4 = acon[i].count(4)\n",
    "    cant5 = acon[i].count(5)\n",
    "    cant6 = acon[i].count(6)\n",
    "    \n",
    "    if cant1==6 or cant2==6 or cant3==6 or cant4==6 or cant5==6 or cant6==6:\n",
    "        print(\"Grande 50 puntos (\",*acon[i],\")\")\n",
    "    elif cant1==4 or cant2==4 or cant3==4 or cant4==4 or cant5==4 or cant6==4:\n",
    "        print(\"Poker 45 puntos (\",*acon[i],\")\")\n",
    "    elif cant1==2 and (cant2==3 or cant3==3 or cant4==3 or cant5==3 or cant6==3):\n",
    "        print(\"Full 35 puntos (\",*acon[i],\")\")\n",
    "    elif cant2==2 and (cant1==3 or cant3==3 or cant4==3 or cant5==3 or cant6==3):\n",
    "        print(\"Full 35 puntos (\",*acon[i],\")\")\n",
    "    elif cant3==2 and (cant1==3 or cant2==3 or cant4==3 or cant5==3 or cant6==3):\n",
    "        print(\"Full 35 puntos (\",*acon[i],\")\")\n",
    "    elif cant4==2 and (cant1==3 or cant2==3 or cant3==3 or cant5==3 or cant6==3):\n",
    "        print(\"Full 35 puntos (\",*acon[i],\")\")\n",
    "    elif cant5==2 and (cant1==3 or cant2==3 or cant4==3 or cant3==3 or cant6==3):\n",
    "        print(\"Full 35 puntos (\",*acon[i],\")\")\n",
    "    elif cant6==2 and (cant1==3 or cant2==3 or cant4==3 or cant3==3 or cant5==3):\n",
    "        print(\"Full 35 puntos (\",*acon[i],\")\")\n",
    "    elif cant1==1 and cant2==1 and cant3==1:\n",
    "        print(\"Escalera 25 puntos (\",*acon[i],\")\")\n",
    "    elif cant2==1 and cant3==1 and cant4==1:\n",
    "        print(\"Escalera 25 puntos (\",*acon[i],\")\")\n",
    "    elif cant3==3 and cant4==4 and cant5==1:\n",
    "        print(\"Escalera 25 puntos (\",*acon[i],\")\")\n",
    "    elif cant4==3 and cant5==4 and cant6==1:\n",
    "        print(\"Escalera 25 puntos (\",*acon[i],\")\")\n",
    "    elif cant6>cant5 and cant6>cant4 and cant6>cant3 and cant6>cant2 and cant6>cant1:\n",
    "        print(cant6,\"senas\",cant6*6,\"puntos (\",*acon[i],\")\")\n",
    "    elif cant5>cant6 and cant5>cant4 and cant5>cant3 and cant5>cant2 and cant5>cant1:\n",
    "        print(cant5,\"quinas\",cant5*5,\"puntos (\",*acon[i],\")\")\n",
    "    elif cant4>cant5 and cant4>cant6 and cant4>cant3 and cant4>cant2 and cant4>cant1:\n",
    "        print(cant4,\"cuadras\",cant4*4,\"puntos (\",*acon[i],\")\")\n",
    "    elif cant3>cant5 and cant3>cant6 and cant3>cant4 and cant3>cant2 and cant3>cant1:\n",
    "        print(cant3,\"trenes\",cant3*3,\"puntos (\",*acon[i],\")\")\n",
    "    elif cant2>cant5 and cant2>cant6 and cant2>cant4 and cant2>cant3 and cant2>cant1:\n",
    "        print(cant2,\"tontos\",cant2*2,\"puntos (\",*acon[i],\")\")\n",
    "    elif cant1>cant5 and cant1>cant6 and cant1>cant4 and cant1>cant2 and cant1>cant2 :\n",
    "        print(cant1,\"balas\",cant1,\"puntos (\",*acon[i],\")\")\n",
    "    elif cant6==cant5 or cant6==cant4 or cant6==cant3 or cant6==cant2 or cant6==cant1:\n",
    "        print(cant6,\"senas\",cant6*6,\"puntos (\",*acon[i],\")\")\n",
    "    elif cant5==cant4 or cant5==cant3 or cant5==cant2 or cant5==cant1:\n",
    "        print(cant5,\"quinas\",cant5*5,\"puntos (\",*acon[i],\")\")\n",
    "    elif cant4==cant3 or cant4==cant2 or cant4==cant1:\n",
    "        print(cant4,\"cuadras\",cant4*4,\"puntos (\",*acon[i],\")\")\n",
    "    elif cant3==cant2 and cant3==cant1:\n",
    "        print(cant3,\"trenes\",cant3*3,\"puntos (\",*acon[i],\")\")\n",
    "    elif cant2==cant1:\n",
    "        print(cant2,\"tontos\",cant2*2,\"puntos (\",*acon[i],\")\")"
   ]
  },
  {
   "cell_type": "code",
   "execution_count": null,
   "metadata": {},
   "outputs": [],
   "source": []
  }
 ],
 "metadata": {
  "kernelspec": {
   "display_name": "Python 3",
   "language": "python",
   "name": "python3"
  },
  "language_info": {
   "codemirror_mode": {
    "name": "ipython",
    "version": 3
   },
   "file_extension": ".py",
   "mimetype": "text/x-python",
   "name": "python",
   "nbconvert_exporter": "python",
   "pygments_lexer": "ipython3",
   "version": "3.7.3"
  }
 },
 "nbformat": 4,
 "nbformat_minor": 2
}
