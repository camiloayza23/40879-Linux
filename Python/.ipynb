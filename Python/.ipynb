{
 "cells": [
  {
   "cell_type": "markdown",
   "metadata": {},
   "source": [
    "# IF"
   ]
  },
  {
   "cell_type": "markdown",
   "metadata": {},
   "source": [
    "Escribir un programa que determine si el año es bisiesto. Un año es bisiesto si es\n",
    "múltiplo de 4 (1988), excepto los múltiplos de 100 que no son bisiestos salvo que a su\n",
    "vez también sean múltiplos de 400 (1800no es bisiesto, 2000 sí)."
   ]
  },
  {
   "cell_type": "code",
   "execution_count": 7,
   "metadata": {},
   "outputs": [
    {
     "name": "stdout",
     "output_type": "stream",
     "text": [
      "Escriba un anio: 2000\n",
      "El anio es bisiesto\n"
     ]
    }
   ],
   "source": [
    "anio = int(input(\"Escriba un anio: \"))\n",
    "if anio%4==0 and anio%100!=0:\n",
    "    print(\"El anio es bisiesto\")\n",
    "elif anio % 100 == 0 and anio % 400 == 0:\n",
    "    print(\"El anio es bisiesto\")\n",
    "else:\n",
    "    print(\"El anio no es bisiesto\")"
   ]
  },
  {
   "cell_type": "markdown",
   "metadata": {},
   "source": [
    "Dado los valores de A, B, C que son los coeficientes de la ecuación de segundo grado,\n",
    "hallar sus raíces reales, desplegar los resultados."
   ]
  },
  {
   "cell_type": "code",
   "execution_count": null,
   "metadata": {},
   "outputs": [],
   "source": []
  },
  {
   "cell_type": "markdown",
   "metadata": {},
   "source": [
    "# WHILE"
   ]
  },
  {
   "cell_type": "markdown",
   "metadata": {},
   "source": [
    "Dado dos valores A y B, realizar el producto de los dos números por sumas sucesivas,\n",
    "almacenar el resultado en una variable P, mostrar el resultado."
   ]
  },
  {
   "cell_type": "code",
   "execution_count": null,
   "metadata": {},
   "outputs": [],
   "source": []
  },
  {
   "cell_type": "markdown",
   "metadata": {},
   "source": [
    "Dado un número X, determinar el número de dígitos del que esta compuesto y\n",
    "desplegar el resultado."
   ]
  },
  {
   "cell_type": "code",
   "execution_count": null,
   "metadata": {},
   "outputs": [],
   "source": []
  },
  {
   "cell_type": "markdown",
   "metadata": {},
   "source": [
    "Escribir un programa que calcule y visualice el más grande, el más pequeño y la media\n",
    "de N números. El valor de N se solicitará al principio del programa y los números\n",
    "serán introducidos por el usuario."
   ]
  },
  {
   "cell_type": "code",
   "execution_count": null,
   "metadata": {},
   "outputs": [],
   "source": []
  },
  {
   "cell_type": "markdown",
   "metadata": {},
   "source": [
    "Dado dos números A y B enteros mayores a cero, hallar A^B por sumas. Desplegar los\n",
    "números y el resultado."
   ]
  },
  {
   "cell_type": "code",
   "execution_count": null,
   "metadata": {},
   "outputs": [],
   "source": []
  },
  {
   "cell_type": "markdown",
   "metadata": {},
   "source": [
    "# FOR"
   ]
  },
  {
   "cell_type": "markdown",
   "metadata": {},
   "source": [
    "La constante pi (3.1441592...) es muy utilizada en matemáticas. Un método sencillo\n",
    "de calcular su valor.\n",
    "\n",
    "Escribir un programa que efectúe este cálculo con un número de términos\n",
    "especificando por el usuario."
   ]
  },
  {
   "cell_type": "code",
   "execution_count": null,
   "metadata": {},
   "outputs": [],
   "source": []
  },
  {
   "cell_type": "markdown",
   "metadata": {},
   "source": [
    "El valor de x e se puede aproximar por la suma\n",
    "Escribir un programa que tome un valor de x como entrada y visualice la suma para\n",
    "cada uno de los valores de 1 a 100."
   ]
  },
  {
   "cell_type": "code",
   "execution_count": null,
   "metadata": {},
   "outputs": [],
   "source": []
  },
  {
   "cell_type": "markdown",
   "metadata": {},
   "source": [
    "# USO DE LISTAS ANIDADAS"
   ]
  },
  {
   "cell_type": "markdown",
   "metadata": {},
   "source": [
    "Calcular la suma de todos los elementos de un vector, así como la media aritmética."
   ]
  },
  {
   "cell_type": "code",
   "execution_count": null,
   "metadata": {},
   "outputs": [],
   "source": []
  },
  {
   "cell_type": "markdown",
   "metadata": {},
   "source": [
    "Multiplicar dos matrices"
   ]
  },
  {
   "cell_type": "code",
   "execution_count": null,
   "metadata": {},
   "outputs": [],
   "source": []
  }
 ],
 "metadata": {
  "kernelspec": {
   "display_name": "Python 3",
   "language": "python",
   "name": "python3"
  },
  "language_info": {
   "codemirror_mode": {
    "name": "ipython",
    "version": 3
   },
   "file_extension": ".py",
   "mimetype": "text/x-python",
   "name": "python",
   "nbconvert_exporter": "python",
   "pygments_lexer": "ipython3",
   "version": "3.7.3"
  }
 },
 "nbformat": 4,
 "nbformat_minor": 2
}
