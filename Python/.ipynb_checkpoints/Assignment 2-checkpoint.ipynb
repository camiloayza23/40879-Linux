{
 "cells": [
  {
   "cell_type": "markdown",
   "metadata": {},
   "source": [
    "# IF"
   ]
  },
  {
   "cell_type": "markdown",
   "metadata": {},
   "source": [
    "Escribir un programa que determine si el año es bisiesto. Un año es bisiesto si es\n",
    "múltiplo de 4 (1988), excepto los múltiplos de 100 que no son bisiestos salvo que a su\n",
    "vez también sean múltiplos de 400 (1800no es bisiesto, 2000 sí)."
   ]
  },
  {
   "cell_type": "code",
   "execution_count": 7,
   "metadata": {},
   "outputs": [
    {
     "name": "stdout",
     "output_type": "stream",
     "text": [
      "Escriba un anio: 2000\n",
      "El anio es bisiesto\n"
     ]
    }
   ],
   "source": [
    "anio = int(input(\"Escriba un anio: \"))\n",
    "if anio%4==0 and anio%100!=0:\n",
    "    print(\"El anio es bisiesto\")\n",
    "elif anio % 100 == 0 and anio % 400 == 0:\n",
    "    print(\"El anio es bisiesto\")\n",
    "else:\n",
    "    print(\"El anio no es bisiesto\")"
   ]
  },
  {
   "cell_type": "markdown",
   "metadata": {},
   "source": [
    "Dado los valores de A, B, C que son los coeficientes de la ecuación de segundo grado,\n",
    "hallar sus raíces reales, desplegar los resultados."
   ]
  },
  {
   "cell_type": "code",
   "execution_count": 53,
   "metadata": {},
   "outputs": [
    {
     "name": "stdout",
     "output_type": "stream",
     "text": [
      "ECUACIÓN A X² + B X + C = 0\n",
      "Escriba el valor del coeficiente a: 12\n",
      "Escriba el valor del coeficiente b: 34\n",
      "Escriba el valor del coeficiente c: 23\n",
      "La raiz de A es: 3.4641016151377544\n",
      "La raiz de B es: 5.830951894845301\n",
      "La raiz de C es: 4.795831523312719\n",
      "La ecuacion tiene dos soluciones:  -1.1162040603780008  y  -1.7171292729553322\n"
     ]
    }
   ],
   "source": [
    "import math\n",
    "import cmath\n",
    "print(\"ECUACIÓN A X² + B X + C = 0\")\n",
    "a = float(input(\"Escriba el valor del coeficiente a: \"))\n",
    "b = float(input(\"Escriba el valor del coeficiente b: \"))\n",
    "c = float(input(\"Escriba el valor del coeficiente c: \"))\n",
    "\n",
    "print(\"La raiz de A es:\",math.sqrt(a))\n",
    "print(\"La raiz de B es:\",math.sqrt(b))\n",
    "print(\"La raiz de C es:\",math.sqrt(c))\n",
    "d = b**2-(4*a*c)\n",
    "if d == 0:\n",
    "    sol = (-b)/(2*a)\n",
    "    print(\"La ecuacion tiene una solucion: \", sol)\n",
    "elif d>0:\n",
    "    sol = (-b + math.sqrt(d))/(2*a)\n",
    "    sol2 = (-b - math.sqrt(d))/(2*a)\n",
    "    print(\"La ecuacion tiene dos soluciones: \", sol, \" y \",sol2)\n",
    "else:\n",
    "    print(\"La ecuacion no tiene soluciones reales\")"
   ]
  },
  {
   "cell_type": "markdown",
   "metadata": {},
   "source": [
    "# WHILE"
   ]
  },
  {
   "cell_type": "markdown",
   "metadata": {},
   "source": [
    "Dado dos valores A y B, realizar el producto de los dos números por sumas sucesivas,\n",
    "almacenar el resultado en una variable P, mostrar el resultado."
   ]
  },
  {
   "cell_type": "code",
   "execution_count": 2,
   "metadata": {},
   "outputs": [
    {
     "name": "stdout",
     "output_type": "stream",
     "text": [
      "Introduce un numero: 3\n",
      "Introduce un numero: 4\n",
      "El resultado es 12\n"
     ]
    }
   ],
   "source": [
    "a = int(input(\"Introduce un numero: \"))\n",
    "b = int(input(\"Introduce un numero: \"))\n",
    "p = 0\n",
    "cont = 1\n",
    "while cont<=b:\n",
    "    p+=a\n",
    "    cont+=1\n",
    "print(\"El resultado es\",p)"
   ]
  },
  {
   "cell_type": "markdown",
   "metadata": {},
   "source": [
    "Dado un número X, determinar el número de dígitos del que esta compuesto y\n",
    "desplegar el resultado."
   ]
  },
  {
   "cell_type": "code",
   "execution_count": 24,
   "metadata": {},
   "outputs": [
    {
     "name": "stdout",
     "output_type": "stream",
     "text": [
      "Introduza un numero: 209384\n",
      "Cantidad total de digitos 6\n"
     ]
    }
   ],
   "source": [
    "x = int(input(\"Introduza un numero: \"))\n",
    "dig = 0\n",
    "while x > 0:\n",
    "    x = int(x/10)\n",
    "    dig+=1\n",
    "print(\"Cantidad total de digitos\",dig)"
   ]
  },
  {
   "cell_type": "markdown",
   "metadata": {},
   "source": [
    "Escribir un programa que calcule y visualice el más grande, el más pequeño y la media\n",
    "de N números. El valor de N se solicitará al principio del programa y los números\n",
    "serán introducidos por el usuario."
   ]
  },
  {
   "cell_type": "code",
   "execution_count": 7,
   "metadata": {},
   "outputs": [
    {
     "name": "stdout",
     "output_type": "stream",
     "text": [
      "Introduzca el valor de n: 3\n",
      "Introduzca un numero: 2\n",
      "Introduzca un numero: 3\n",
      "Introduzca un numero: 4\n",
      "El mayor es 4 el menor es 2 y la media de los numeros introducidos es 3\n"
     ]
    }
   ],
   "source": [
    "import statistics as stats\n",
    "n = int(input(\"Introduzca el valor de n: \"))\n",
    "lst = []\n",
    "while n > 0:\n",
    "    num = int(input(\"Introduzca un numero: \"))\n",
    "    lst.append(num)\n",
    "    n -= 1\n",
    "print(\"El mayor es\",max(lst),\"el menor es\",min(lst),\"y la media de los numeros introducidos es\",stats.mean(lst))"
   ]
  },
  {
   "cell_type": "markdown",
   "metadata": {},
   "source": [
    "Dado dos números A y B enteros mayores a cero, hallar A^B por sumas. Desplegar los\n",
    "números y el resultado."
   ]
  },
  {
   "cell_type": "code",
   "execution_count": 39,
   "metadata": {},
   "outputs": [
    {
     "name": "stdout",
     "output_type": "stream",
     "text": [
      "Introduce un numero: 3\n",
      "Introduce un numero: 4\n",
      "El resultado es 81\n"
     ]
    }
   ],
   "source": [
    "a = int(input(\"Introduce un numero: \"))\n",
    "b = int(input(\"Introduce un numero: \"))\n",
    "res = 0\n",
    "cont = 1\n",
    "while cont<b:\n",
    "    aux = 1\n",
    "    while aux < b:\n",
    "        res+=a\n",
    "        aux+=1\n",
    "    a=res\n",
    "    if cont != b-1:\n",
    "        res=0\n",
    "    cont+=1\n",
    "print(\"El resultado es\",res)\n",
    "\n"
   ]
  },
  {
   "cell_type": "markdown",
   "metadata": {},
   "source": [
    "# FOR"
   ]
  },
  {
   "cell_type": "markdown",
   "metadata": {},
   "source": [
    "La constante pi (3.1441592...) es muy utilizada en matemáticas. Un método sencillo\n",
    "de calcular su valor.\n",
    "\n",
    "Escribir un programa que efectúe este cálculo con un número de términos\n",
    "especificando por el usuario."
   ]
  },
  {
   "cell_type": "code",
   "execution_count": 35,
   "metadata": {},
   "outputs": [
    {
     "name": "stdout",
     "output_type": "stream",
     "text": [
      "Cantidad de veces que se efectuara el calculo de pi: 3\n",
      "El valor de pi es: 3.556 \n"
     ]
    }
   ],
   "source": [
    "# Cada paso representa un parentesis en la ecuacion desde 2 * (1) * (2)\n",
    "\n",
    "n = int(input(\"Cantidad de veces que se efectuara el calculo de pi: \"))\n",
    "calc = 1\n",
    "pi = 2\n",
    "for x in range(0,n):\n",
    "    if(calc % 2 == 0):\n",
    "        pi = pi * (calc/(calc+1))\n",
    "    else: \n",
    "        pi = pi * ((calc+1)/calc)\n",
    "    calc +=1\n",
    "print(\"El valor de pi es: {0:.4} \".format(pi))"
   ]
  },
  {
   "cell_type": "markdown",
   "metadata": {},
   "source": [
    "El valor de x e se puede aproximar por la suma\n",
    "Escribir un programa que tome un valor de x como entrada y visualice la suma para\n",
    "cada uno de los valores de 1 a 100."
   ]
  },
  {
   "cell_type": "code",
   "execution_count": 58,
   "metadata": {},
   "outputs": [
    {
     "name": "stdout",
     "output_type": "stream",
     "text": [
      "Defina el valor de x: 3\n",
      "El valor de e^x es: 20.08553692318766\n"
     ]
    }
   ],
   "source": [
    "import math \n",
    "x = int(input(\"Defina el valor de x: \"))\n",
    "e = 1 + x\n",
    "for i in range(2,101):\n",
    "    e += (x**i)/math.factorial(i)\n",
    "print(\"El valor de e^x es:\",e)"
   ]
  },
  {
   "cell_type": "markdown",
   "metadata": {},
   "source": [
    "# USO DE LISTAS ANIDADAS"
   ]
  },
  {
   "cell_type": "markdown",
   "metadata": {},
   "source": [
    "Calcular la suma de todos los elementos de un vector, así como la media aritmética."
   ]
  },
  {
   "cell_type": "code",
   "execution_count": 47,
   "metadata": {},
   "outputs": [
    {
     "name": "stdout",
     "output_type": "stream",
     "text": [
      "La suma de todos los elementos es 25 y su media es 8.333333333333334\n"
     ]
    }
   ],
   "source": [
    "vector = [[1,3],[1,2],[3,4,5,6]]\n",
    "cant = 0\n",
    "x = 0\n",
    "for i in vector:\n",
    "    x += sum(i)\n",
    "media = x/len(vector)\n",
    "print(\"La suma de todos los elementos es\",x,\"y su media es\",media)"
   ]
  },
  {
   "cell_type": "markdown",
   "metadata": {},
   "source": [
    "Multiplicar dos matrices"
   ]
  },
  {
   "cell_type": "code",
   "execution_count": 48,
   "metadata": {},
   "outputs": [
    {
     "name": "stdout",
     "output_type": "stream",
     "text": [
      "[114, 160, 60, 27]\n",
      "[74, 97, 73, 14]\n",
      "[119, 157, 112, 23]\n"
     ]
    }
   ],
   "source": [
    "\n",
    "# 3x3 matrix\n",
    "X = [[12,7,3],\n",
    "    [4 ,5,6],\n",
    "    [7 ,8,9]]\n",
    "# 3x4 matrix\n",
    "Y = [[5,8,1,2],\n",
    "    [6,7,3,0],\n",
    "    [4,5,9,1]]\n",
    "result = [[0,0,0,0],\n",
    "         [0,0,0,0],\n",
    "         [0,0,0,0]]\n",
    "\n",
    "for i in range(len(X)):\n",
    "    for j in range(len(Y[0])):\n",
    "        for k in range(len(Y)):\n",
    "            result[i][j] += X[i][k] * Y[k][j]\n",
    "\n",
    "for r in result:\n",
    "    print(r)"
   ]
  },
  {
   "cell_type": "code",
   "execution_count": 51,
   "metadata": {},
   "outputs": [
    {
     "data": {
      "text/plain": [
       "array([[114, 160,  60,  27],\n",
       "       [ 74,  97,  73,  14],\n",
       "       [119, 157, 112,  23]])"
      ]
     },
     "execution_count": 51,
     "metadata": {},
     "output_type": "execute_result"
    }
   ],
   "source": [
    "import numpy as np\n",
    "a = np.array([[12,7,3],\n",
    "    [4 ,5,6],\n",
    "    [7 ,8,9]])\n",
    "b = np.array([[5,8,1,2],\n",
    "    [6,7,3,0],\n",
    "    [4,5,9,1]])\n",
    "np.matmul(a, b)\n"
   ]
  },
  {
   "cell_type": "code",
   "execution_count": null,
   "metadata": {},
   "outputs": [],
   "source": []
  }
 ],
 "metadata": {
  "kernelspec": {
   "display_name": "Python 3",
   "language": "python",
   "name": "python3"
  },
  "language_info": {
   "codemirror_mode": {
    "name": "ipython",
    "version": 3
   },
   "file_extension": ".py",
   "mimetype": "text/x-python",
   "name": "python",
   "nbconvert_exporter": "python",
   "pygments_lexer": "ipython3",
   "version": "3.7.3"
  }
 },
 "nbformat": 4,
 "nbformat_minor": 2
}
